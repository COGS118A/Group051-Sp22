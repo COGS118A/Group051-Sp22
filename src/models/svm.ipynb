{
 "cells": [
  {
   "cell_type": "code",
   "execution_count": 30,
   "metadata": {},
   "outputs": [],
   "source": [
    "from pathlib import Path\n",
    "from sklearn.decomposition import PCA\n",
    "from sklearn.pipeline import Pipeline\n",
    "from sklearn.svm import SVC\n",
    "from sklearn.preprocessing import StandardScaler\n",
    "from sklearn.model_selection import GridSearchCV\n",
    "import numpy as np\n",
    "from matplotlib import pyplot as plt"
   ]
  },
  {
   "cell_type": "code",
   "execution_count": 6,
   "metadata": {},
   "outputs": [],
   "source": [
    "def read_fen(fen: str):\n",
    "    board = []\n",
    "    for char in fen:\n",
    "        if(char.isdigit()):\n",
    "            board += [np.nan] * int(char)\n",
    "        elif(char != '-'):\n",
    "            board += char\n",
    "    board = np.reshape(board, (8, 8))\n",
    "    return board"
   ]
  },
  {
   "cell_type": "code",
   "execution_count": 7,
   "metadata": {},
   "outputs": [],
   "source": [
    "def load_data(path: Path):\n",
    "    X = []\n",
    "    y = []\n",
    "    for x in path.glob(\"*.npy\"):\n",
    "        X.append(np.load(x))\n",
    "        y.append(read_fen(x.stem))\n",
    "\n",
    "    X = np.array(X)\n",
    "    X = np.moveaxis(X, 0, -1)\n",
    "    X = X.T.reshape(\n",
    "        (\n",
    "            X.shape[-1] * 8 * 8,  # number of squares\n",
    "            50 * 50,  # pixels per square\n",
    "        )\n",
    "    )\n",
    "\n",
    "    y = np.array(y).flatten()\n",
    "\n",
    "    return X, y"
   ]
  },
  {
   "cell_type": "code",
   "execution_count": null,
   "metadata": {},
   "outputs": [],
   "source": [
    "path = Path('../../data/processed')\n",
    "# LOAD DATA\n",
    "tr_X, tr_y = load_data(path.joinpath('train'))\n",
    "scaler = StandardScaler()\n",
    "pca = PCA()\n",
    "\n",
    "pipeline = Pipeline([\n",
    "    (\"scaler\", scaler),\n",
    "    (\"pca\", pca),\n",
    "    (\"model\", SVC(max_iter=10000))  \n",
    "])\n",
    "\n",
    "param_grid = {\n",
    "    \"pca__n_components\": [10, 30, 60],\n",
    "    'model__C' : [.0001, .01, 1, 10, 100],\n",
    "    'model__kernel' : ['linear', 'rbf', 'sigmoid'],\n",
    "}\n",
    "\n",
    "gridsearch = GridSearchCV(pipeline, param_grid, n_jobs=1, verbose=10, cv=3)\n",
    "\n",
    "gridsearch.fit(tr_X, tr_y)\n",
    "\n",
    "test_X, test_y = load_data(path.joinpath('test'))\n",
    "score = gridsearch.best_score_\n",
    "print(score)"
   ]
  },
  {
   "cell_type": "code",
   "execution_count": 23,
   "metadata": {},
   "outputs": [
    {
     "data": {
      "text/plain": [
       "array(['nan'], dtype='<U32')"
      ]
     },
     "execution_count": 23,
     "metadata": {},
     "output_type": "execute_result"
    }
   ],
   "source": [
    "np.unique(gridsearch.predict(test_X))"
   ]
  },
  {
   "cell_type": "code",
   "execution_count": 15,
   "metadata": {},
   "outputs": [
    {
     "data": {
      "text/plain": [
       "{'model__C': 0.0001, 'model__kernel': 'linear'}"
      ]
     },
     "execution_count": 15,
     "metadata": {},
     "output_type": "execute_result"
    }
   ],
   "source": [
    "gridsearch.best_params_"
   ]
  },
  {
   "cell_type": "code",
   "execution_count": 24,
   "metadata": {},
   "outputs": [
    {
     "data": {
      "text/plain": [
       "0.83209375"
      ]
     },
     "execution_count": 24,
     "metadata": {},
     "output_type": "execute_result"
    }
   ],
   "source": [
    "gridsearch.score(test_X, test_y)"
   ]
  },
  {
   "cell_type": "code",
   "execution_count": 31,
   "metadata": {},
   "outputs": [
    {
     "data": {
      "image/png": "[encoded data removed]",
      "text/plain": [
       "<Figure size 432x288 with 2 Axes>"
      ]
     },
     "metadata": {
      "needs_background": "light"
     },
     "output_type": "display_data"
    }
   ],
   "source": [
    "from sklearn.metrics import ConfusionMatrixDisplay\n",
    "ConfusionMatrixDisplay.from_estimator(gridsearch, test_X, test_y)\n",
    "plt.savefig(\"./{MODEL_NAME}.png\")"
   ]
  }
 ],
 "metadata": {
  "interpreter": {
   "hash": "c5f4951c5531ed3118c91fcdcb7cd43e4c1b551505bdba506ac1c85debba4207"
  },
  "kernelspec": {
   "display_name": "Python 3.9.12 ('base')",
   "language": "python",
   "name": "python3"
  },
  "language_info": {
   "codemirror_mode": {
    "name": "ipython",
    "version": 3
   },
   "file_extension": ".py",
   "mimetype": "text/x-python",
   "name": "python",
   "nbconvert_exporter": "python",
   "pygments_lexer": "ipython3",
   "version": "3.9.12"
  },
  "orig_nbformat": 4
 },
 "nbformat": 4,
 "nbformat_minor": 2
}
