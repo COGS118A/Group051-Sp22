{
 "cells": [
  {
   "cell_type": "markdown",
   "metadata": {},
   "source": [
    "# COGS 118A- Project Checkpoint"
   ]
  },
  {
   "cell_type": "markdown",
   "metadata": {},
   "source": [
    "# Names\n",
    "\n",
    "- Cameron VanderTuig\n",
    "- Zeven Vidmar Barker\n",
    "- Nawwar Tohme\n",
    "- Nicholas DeGroot"
   ]
  },
  {
   "cell_type": "markdown",
   "metadata": {},
   "source": [
    "# Abstract \n",
    "\n",
    "Our project aims to take in an image of a chess board and output where every piece lies on the board. To do so, we will use the [`koryakinp/chess-positions`](https://www.kaggle.com/datasets/koryakinp/chess-positions) Kaggle dataset made up of 100,000 images of Chess boards in various styles along with the true positions of every piece. Our project will then compare multiple machine learning models learned in class (SVM, Logistic Regression, etc.) to determine the best model by percentage of board correctly identified.\n",
    "\n",
    "We believe this work will have profound effects on the Chess community, who will be able to quickly digitize and transform their games into various formats and preform more complex analysis of their play styles with the help of AI Chess bots. "
   ]
  },
  {
   "cell_type": "markdown",
   "metadata": {},
   "source": [
    "# Background\n",
    "\n",
    "The world of Online Chess is home to a plethora of different platforms and tools that allow players to both play Chess with others and watch these games being streamed in real-time, each with their own respective styles and quality. While Chess is no stranger to organized notation for classifying pieces and movements <a name=\"wikipedia\"></a>[<sup>[1]</sup>](#notation), the variety of online formats and mediums may produce problems or limitations when it comes to scraping this information directly from websites.\n",
    "\n",
    "Visualizing and classifying chess pieces and chessboards is a higher-level problem that extends to physical chessboards, namely in deep learning algorithms such as LiveChess2FEN <a name=\"livechess\"></a>[<sup>[2]</sup>](#livechess). For our expertise level, we will stick to the varying art styles seen across different Chess game softwares and websites, focusing to tackle the online mediums primarily adopted by game streamers and digital content creators."
   ]
  },
  {
   "cell_type": "markdown",
   "metadata": {},
   "source": [
    "# Problem Statement\n",
    "\n",
    "Chess is one of the most popular games of the 21st century, with millions of people around the world competing to see who can checkmate their opponent. The advent of AI Chess bots allowed people to quickly analyze their games against top-level players to see exactly where they went wrong and improve their play at a rate unseen in history.\n",
    "\n",
    "The limiting factor, however, was that players needed to represent their games digitally for the first time. This can take a lot of work, especially considering how fast the game can progress across several moves.\n",
    "\n",
    "This is where our project comes in. We hope to produce a model that can take in a simple image of a Chess board and output a standardized format that anyone can plug into their favorite Chess trainer of choice. We expect this to rapidly improve the rate at which people can learn, thus forwarding the game of Chess as a whole."
   ]
  },
  {
   "cell_type": "markdown",
   "metadata": {},
   "source": [
    "# Data\n",
    "\n",
    "The dataset we're using comes from Kaggle, under [`koryakinp/chess-positions`](https://www.kaggle.com/datasets/koryakinp/chess-positions).\n",
    "\n",
    "The entire dataset consists of 100,000 RGB images in `.jpeg` format, pre-split into 80,000 train and 20,000 test sets. Data is formatted as follows:\n",
    "- The name of the image is the board state in Forsyth-Eswards (FEN) format. You can read more about that [here](https://en.wikipedia.org/wiki/Forsyth%E2%80%93Edwards_Notation).\n",
    "  - Our model uses a FEN parser to clean this format into a sparser 8x8 matrix with each cell representing the piece.\n",
    "- Each image is 400x400 pixels, each with a RGB value. resulting in 64,000,000 x 3 = 192,000,000 total observations per data point.\n",
    "  - Our models will be concerned with individual pieces. Taking this into account subdivides the image into an 8x8 grid, with each piece representing a 50x50 slice of the image.\n",
    "    - This results in 2,500 x 3 = 7,500 variables\n",
    "    - We grayscaling each subplot (back to 2,500 variables), since the essence of the feature is still represented quite well.\n",
    "\n",
    "During data cleaning, we found that cleaning the entire dataset quickly filled our hard drives to well over 100GBs. For this reason, we chose to limit the number of observations to the first 10,000 training images and 2,000 test images. This sorted out to a more managable 10GB of space! "
   ]
  },
  {
   "cell_type": "markdown",
   "metadata": {},
   "source": [
    "# Proposed Solution\n",
    "\n",
    "Our project will compare the effectiveness of various machine learning problems, mainly focusing on multi-class image classification.\n",
    "\n",
    "To do so, we will split the chess board into its 64 pieces using standard image processing. One possible implementation of this comes from SciKit-Image as view_as_windows (https://scikit-image.org/docs/dev/api/skimage.util.html#skimage.util.view_as_windows). Depending on the model and its limitations, we may also grayscale the image. Each square of the board will then be run through the model for 7-way classification: EMPTY, PAWN, ROOK, KNIGHT, BISHOP, KING, and QUEEN.\n",
    "\n",
    "We expect to test the following models, likely using their Scikit-learn implementations:\n",
    "- SVM\n",
    "- Logistic Regression\n",
    "\n",
    "If time allows, we may also attempt to train and test a Convolutional Network model using PyTorch. This gives us the opportunity to not need to pre-split the image into separate board positions and instead do it all at once.\n",
    "\n",
    "Evaluation will be assessed via model accuracy on the number of spaces correct classified.\n"
   ]
  },
  {
   "cell_type": "markdown",
   "metadata": {},
   "source": [
    "# Evaluation Metrics\n",
    "\n",
    "Although these will surely change over the project, some important measures of success at the moment would be:\n",
    "- Percentage of correctly identified pieces = isolated accuracy performance\n",
    "- Percentage of (entirely) correct chess board states = accuracy performance relative to sets of chessboard styles\n",
    "- 7 by 7 matrix of what frequency in which each piece was misinterpreted as each other piece. This will give us a better idea of which pieces are difficult (in relation) to identify compared to others.\n",
    "- Success rate of various board styles."
   ]
  },
  {
   "cell_type": "markdown",
   "metadata": {},
   "source": [
    "# Preliminary results\n",
    "\n",
    "- So far, we've managed to clean the data into a parsable Numpy format.\n",
    "  - This entailed various image processing techniques, including grayscaling the image and segmenting it into each part.\n",
    "  - We then turned this into a numpy array and saved it away. Our dataset has >10GB of raw data!\n",
    "- We also managed to read the FEN notation into a parsable Python format\n",
    "  - We're using [`python-chess`](https://python-chess.readthedocs.io/en/latest/index.html) for this, which allows for a lot of flexibility in actual implementation.\n",
    "- Learning all the techniques above took more time then we expected, meaning we were unable to actually get a working model. We believe all the groundwork has been laid to rapidly implement a variety of models going forward!"
   ]
  },
  {
   "cell_type": "markdown",
   "metadata": {},
   "source": [
    "# Ethics & Privacy"
   ]
  },
  {
   "cell_type": "markdown",
   "metadata": {},
   "source": [
    "While the prospect of classifying chess pieces across different visual styles doesn't immediately bring to mind any data privacy concerns (as these chess piece and chess board images are not unique to any particular user), issues may potentially arise in the applications of an algorithm which can identify pieces and positions on a chess board. If such an algorithm is to be used on mediums where the underlying data behind a chess game is not retrievable, such as a video replay or online livestream, issues may arise if these games are represented and analyzed when the original user doesn't intend for them to be. Some content creators, for instance, might want credit for their gameplay, but such an algorithm could potentially allow users to port and fabricate gameplay on various chess game-sharing platforms."
   ]
  },
  {
   "cell_type": "markdown",
   "metadata": {},
   "source": [
    "# Team Expectations "
   ]
  },
  {
   "cell_type": "markdown",
   "metadata": {},
   "source": [
    "We will…\n",
    "- Communicate mostly through our discord server through chat and voice.\n",
    "- Solve conflict through direct communication.\n",
    "- Meet the deadlines set for each member or communicate issues ahead of time.\n",
    "- Determine deadlines and organize during meetings, which mostly will follow timeline proposal.\n"
   ]
  },
  {
   "cell_type": "markdown",
   "metadata": {},
   "source": [
    "# Project Timeline Proposal"
   ]
  },
  {
   "cell_type": "markdown",
   "metadata": {},
   "source": [
    "| Meeting Date  | Meeting Time| Completed Before Meeting  | Discuss at Meeting |\n",
    "|---|---|---|---|\n",
    "| 4/21 |  5 PM |  Brainstorm topics/questions (all)  | Determine best form of communication; Discuss and decide on final project topic; discuss hypothesis; begin background research | \n",
    "| 4/24 |  7 PM |  Proposed Solution/Abstract (Nick) | Discuss ideal dataset(s) and ethics; draft project proposal (all - Nick) |\n",
    "| 5/9 | N/A | Individual peer reviews (all) | Brainstorm revisions based on peer proposals |\n",
    "| 5/18 | 5 PM | Think of ways to divide work req'd for checkpoint | Review proposal feedback |\n",
    "| 5/20 | Before 11:59 PM | Data Cleaning / Repo Organize (Nick) | Checkpoint revisions (Zeven) |\n",
    "| 5/25| 5 PM | Devise possible routes for EDA | EDA / Discuss Analysis Plan |\n",
    "| 6/1 | 5 PM | Select different models to compare against in model selection | Model Selection / Discuss project code |\n",
    "| 6/8 | 5 PM | Complete analysis; Draft results/conclusion/discussion | Discuss/edit full project |\n",
    "| 6/8 | Before 11:59 PM  | NA | Turn in Final Project |"
   ]
  },
  {
   "cell_type": "markdown",
   "metadata": {},
   "source": [
    "# Footnotes\n",
    "<a name=\"wikipedia\"></a>1.[^](#notation): “Chess Notation.” *Wikipedia*, Wikimedia Foundation, 27 Feb. 2022, https://en.wikipedia.org/wiki/Chess_notation. <br> \n",
    "<a name=\"livechess\"></a>2.[^](#livechess): Quintana, David Mallasén, Alberto Antonio Del Barrio García, και Manuel Prieto-Matías. ‘LiveChess2FEN: a Framework for Classifying Chess Pieces based on CNNs’. CoRR abs/2012.06858 (2020): n. pag. https://arxiv.org/pdf/2012.06858v1.pdf.<br>"
   ]
  },
  {
   "cell_type": "markdown",
   "metadata": {},
   "source": [
    "# COGS 118A- Project Proposal"
   ]
  },
  {
   "cell_type": "markdown",
   "metadata": {},
   "source": [
    "### Peer Review\n",
    "\n",
    "You will all have an opportunity to look at the Project Proposals of other groups to fuel your creativity and get more ideas for how you can improve your own projects. \n",
    "\n",
    "Both the project proposal and project checkpoint will have peer review."
   ]
  },
  {
   "cell_type": "markdown",
   "metadata": {},
   "source": [
    "# Names\n",
    "\n",
    "- Cameron VanderTuig\n",
    "- Zeven Vidmar Barker\n",
    "- Nawwar Tohme\n",
    "- Nicholas DeGroot"
   ]
  },
  {
   "cell_type": "markdown",
   "metadata": {},
   "source": [
    "# Abstract \n",
    "\n",
    "The goal of our project is to generate a digital representation of a chess board state from images of board states. The data set we will use is comprised of images of chess boards (created using various different board styles) and their corresponding digital representation in FEN notation. Our model will attempt to do so by splitting the board into each of its 64 squares and predicting what piece is (or is not) on the space. Success will be measured by how many of the pieces the algorithm correctly identifies (including blank pieces), and how well it does on novel board styles."
   ]
  },
  {
   "cell_type": "markdown",
   "metadata": {},
   "source": [
    "# Background\n",
    "\n",
    "The world of Online Chess is home to a plethora of different platforms and tools that allow players to both play Chess with others and watch these games being streamed in real-time, each with their own respective styles and quality. While Chess is no stranger to organized notation for classifying pieces and movements <a name=\"wikipedia\"></a>[<sup>[1]</sup>](#notation), the variety of online formats and mediums may produce problems or limitations when it comes to scraping this information directly from websites.\n",
    "\n",
    "Visualizing and classifying chess pieces and chessboards is a higher-level problem that extends to physical chessboards, namely in deep learning algorithms such as LiveChess2FEN <a name=\"livechess\"></a>[<sup>[2]</sup>](#livechess). For our expertise level, we will stick to the varying art styles seen across different Chess game softwares and websites, focusing to tackle the online mediums primarily adopted by game streamers and digital content creators."
   ]
  },
  {
   "cell_type": "markdown",
   "metadata": {},
   "source": [
    "# Problem Statement\n",
    "\n",
    "While it is easier to scrape the positions of chess pieces apart of a website directly from the website itself, there may be some situations where that isn’t possible. Footage of an online game of chess, for example, only allows access to the image of pieces with perhaps some added noise from elements such as the mouse cursor. Being able to still derive the state of the board from these images can be useful in situations where that data isn't easily accessible."
   ]
  },
  {
   "cell_type": "markdown",
   "metadata": {},
   "source": [
    "# Data\n",
    "\n",
    "- https://www.kaggle.com/datasets/koryakinp/chess-positions\n",
    "- 100000 images of chess boards = 64000000 images of tiles with or without pieces variables: 400 by 400 pixels = 160000 pixels\n",
    "- An observation is an image of a chess tile, with or without a chess piece on the tile.\n",
    "- A critical variable here could be a pixel within the actual chess piece, rather than including pixels of the board behind it.\n",
    "- It could be important to remove color from the tiles, and use a grayscale or something similar, as other colors would not be very useful in identifying the piece and could be detrimental to analysis."
   ]
  },
  {
   "cell_type": "markdown",
   "metadata": {},
   "source": [
    "# Proposed Solution\n",
    "\n",
    "Our project will compare the effectiveness of various machine learning problems, mainly focusing on multi-class image classification.\n",
    "\n",
    "To do so, we will split the chess board into its 64 pieces using standard image processing. One possible implementation of this comes from SciKit-Image as view_as_windows (https://scikit-image.org/docs/dev/api/skimage.util.html#skimage.util.view_as_windows). Depending on the model and its limitations, we may also grayscale the image. Each square of the board will then be run through the model for 7-way classification: EMPTY, PAWN, ROOK, KNIGHT, BISHOP, KING, and QUEEN.\n",
    "\n",
    "We expect to test the following models, likely using their Scikit-learn implementations:\n",
    "SVM\n",
    "Logistic Regression\n",
    "\n",
    "If time allows, we may also attempt to train and test a Convolutional Network model using PyTorch. This gives us the opportunity to not need to pre-split the image into separate board positions and instead do it all at once.\n",
    "\n",
    "Evaluation will be assessed via model accuracy on the number of spaces correct classified.\n"
   ]
  },
  {
   "cell_type": "markdown",
   "metadata": {},
   "source": [
    "# Evaluation Metrics\n",
    "\n",
    "Although these will surely change over the project, some important measures of success at the moment would be:\n",
    "<ol>\n",
    "<li> Percentage of correctly identified pieces.</li>\n",
    "<li> Percentage of (entirely) correct chess board states.</li>\n",
    "<li> 7 by 7 matrix of what frequency in which each piece was misinterpreted as each other piece. This will give us a better idea of which pieces are difficult (in relation) to identify compared to others.</li>\n",
    "<li> Success rate of various board styles.</li>\n",
    "</ol>\n"
   ]
  },
  {
   "cell_type": "markdown",
   "metadata": {},
   "source": [
    "# Ethics & Privacy\n",
    "\n",
    "While the prospect of classifying chess pieces across different visual styles doesn't immediately bring to mind any data privacy concerns (as these chess piece and chess board images are not unique to any particular user), issues may potentially arise in the applications of an algorithm which can identify pieces and positions on a chess board. If such an algorithm is to be used on mediums where the underlying data behind a chess game is not retrievable, such as a video replay or online livestream, issues may arise if these games are represented and analyzed when the original user doesn't intend for them to be. Some content creators, for instance, might want credit for their gameplay, but such an algorithm could potentially allow users to port and fabricate gameplay on various chess game-sharing platforms."
   ]
  },
  {
   "cell_type": "markdown",
   "metadata": {},
   "source": [
    "# Team Expectations "
   ]
  },
  {
   "cell_type": "markdown",
   "metadata": {},
   "source": [
    "We will…\n",
    "- Communicate mostly through our discord server through chat and voice.\n",
    "- Solve conflict through direct communication.\n",
    "- Meet the deadlines set for each member or communicate issues ahead of time.\n",
    "- Determine deadlines and organize during meetings, which mostly will follow timeline proposal.\n"
   ]
  },
  {
   "cell_type": "markdown",
   "metadata": {},
   "source": [
    "# Project Timeline Proposal"
   ]
  },
  {
   "cell_type": "markdown",
   "metadata": {},
   "source": [
    "Replace this with something meaningful that is appropriate for your needs. It doesn't have to be something that fits this format.  It doesn't have to be set in stone... \"no battle plan survives contact with the enemy\". But you need a battle plan nonetheless, and you need to keep it updated so you understand what you are trying to accomplish, who's responsible for what, and what the expected due dates are for each item.\n",
    "\n",
    "| Meeting Date  | Meeting Time| Completed Before Meeting  | Discuss at Meeting |\n",
    "|---|---|---|---|\n",
    "| 4/20 |  5 PM |  Brainstorm topics/questions (all)  | Determine best form of communication; Discuss and decide on final project topic; discuss hypothesis; begin background research | \n",
    "| 4/27 |  5 PM |  Do background research on topic (Pelé) | Discuss ideal dataset(s) and ethics; draft project proposal | \n",
    "| 5/4  | 5 PM | Edit, finalize, and submit proposal; Search for datasets (Beckenbaur)  | Discuss Wrangling and possible analytical approaches; Assign group members to lead each specific part   |\n",
    "| 5/11 | 5 PM | Import & Wrangle Data ,do some EDA (Maradonna) | Review/Edit wrangling/EDA; Discuss Analysis Plan   |\n",
    "| 5/18 | 5 PM | Finalize wrangling/EDA; Begin programming for project (Cruyff) | Discuss/edit project code; Complete project |\n",
    "| 5/25 | 5 PM | Complete analysis; Draft results/conclusion/discussion (Carlos)| Discuss/edit full project |\n",
    "| ?? | Before 11:59 PM  | NA | Turn in Final Project  |"
   ]
  },
  {
   "cell_type": "markdown",
   "metadata": {},
   "source": [
    "# Footnotes\n",
    "<a name=\"wikipedia\"></a>1.[^](#notation): “Chess Notation.” *Wikipedia*, Wikimedia Foundation, 27 Feb. 2022, https://en.wikipedia.org/wiki/Chess_notation. <br> \n",
    "<a name=\"livechess\"></a>2.[^](#livechess): Quintana, David Mallasén, Alberto Antonio Del Barrio García, και Manuel Prieto-Matías. ‘LiveChess2FEN: a Framework for Classifying Chess Pieces based on CNNs’. CoRR abs/2012.06858 (2020): n. pag. https://arxiv.org/pdf/2012.06858v1.pdf.<br>"
   ]
  },
  {
   "cell_type": "code",
   "execution_count": null,
   "metadata": {},
   "outputs": [],
   "source": []
  }
 ],
 "metadata": {
  "kernelspec": {
   "display_name": "Python 3 (ipykernel)",
   "language": "python",
   "name": "python3"
  },
  "language_info": {
   "codemirror_mode": {
    "name": "ipython",
    "version": 3
   },
   "file_extension": ".py",
   "mimetype": "text/x-python",
   "name": "python",
   "nbconvert_exporter": "python",
   "pygments_lexer": "ipython3",
   "version": "3.9.5"
  }
 },
 "nbformat": 4,
 "nbformat_minor": 2
}
